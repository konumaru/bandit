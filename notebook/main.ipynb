{
 "cells": [
  {
   "cell_type": "markdown",
   "metadata": {},
   "source": [
    "# Contextual Multi-Arm Bandit\n",
    "---"
   ]
  },
  {
   "cell_type": "markdown",
   "metadata": {},
   "source": [
    "## Load Liblareis"
   ]
  },
  {
   "cell_type": "code",
   "execution_count": 112,
   "metadata": {},
   "outputs": [],
   "source": [
    "import numpy as np\n",
    "import pandas as pd\n",
    "from tqdm import tqdm_notebook as tqdm\n",
    "\n",
    "import matplotlib.pyplot as plt\n",
    "%matplotlib inline\n",
    "\n",
    "from sklearn.linear_model import LogisticRegression"
   ]
  },
  {
   "cell_type": "markdown",
   "metadata": {},
   "source": [
    "## Generate Sample Data"
   ]
  },
  {
   "cell_type": "code",
   "execution_count": 113,
   "metadata": {},
   "outputs": [],
   "source": [
    "def generate_sample_data(sample_num=10000):\n",
    "    weight = np.array([\n",
    "        [0.05, 0.05, -0.05],\n",
    "        [-0.05, 0.05, 0.05],\n",
    "        [0.05, -0.05, 0.05],\n",
    "    ])\n",
    "\n",
    "    arm_num = weight.shape[0]\n",
    "    feature_wight = weight\n",
    "\n",
    "    feature_vector = np.random.rand(sample_num, feature_wight.shape[0])\n",
    "    theta = np.dot(feature_vector, feature_wight)\n",
    "    is_cv = (theta > np.random.rand(sample_num, arm_num)).astype(np.int8)\n",
    "\n",
    "    return feature_vector, is_cv, weight"
   ]
  },
  {
   "cell_type": "markdown",
   "metadata": {},
   "source": [
    "## Train Model"
   ]
  },
  {
   "cell_type": "code",
   "execution_count": 145,
   "metadata": {
    "scrolled": false
   },
   "outputs": [
    {
     "name": "stdout",
     "output_type": "stream",
     "text": [
      "The autoreload extension is already loaded. To reload it, use:\n",
      "  %reload_ext autoreload\n"
     ]
    },
    {
     "ename": "IndexError",
     "evalue": "shape mismatch: indexing arrays could not be broadcast together with shapes (10000,) (100,) ",
     "output_type": "error",
     "traceback": [
      "\u001b[0;31m---------------------------------------------------------------------------\u001b[0m",
      "\u001b[0;31mIndexError\u001b[0m                                Traceback (most recent call last)",
      "\u001b[0;32m<ipython-input-145-7d2301aeaa7d>\u001b[0m in \u001b[0;36m<module>\u001b[0;34m()\u001b[0m\n\u001b[1;32m     25\u001b[0m \u001b[0;31m# 初期処理\u001b[0m\u001b[0;34m\u001b[0m\u001b[0;34m\u001b[0m\u001b[0m\n\u001b[1;32m     26\u001b[0m \u001b[0mchosen_arms\u001b[0m \u001b[0;34m=\u001b[0m \u001b[0mnp\u001b[0m\u001b[0;34m.\u001b[0m\u001b[0mrandom\u001b[0m\u001b[0;34m.\u001b[0m\u001b[0mrandint\u001b[0m\u001b[0;34m(\u001b[0m\u001b[0mn_arm\u001b[0m\u001b[0;34m,\u001b[0m \u001b[0msize\u001b[0m\u001b[0;34m=\u001b[0m\u001b[0mbatch_size\u001b[0m\u001b[0;34m)\u001b[0m\u001b[0;34m\u001b[0m\u001b[0m\n\u001b[0;32m---> 27\u001b[0;31m \u001b[0mpred_arm_rewords\u001b[0m \u001b[0;34m=\u001b[0m \u001b[0mrewords\u001b[0m\u001b[0;34m[\u001b[0m\u001b[0mnp\u001b[0m\u001b[0;34m.\u001b[0m\u001b[0marange\u001b[0m\u001b[0;34m(\u001b[0m\u001b[0mend\u001b[0m\u001b[0;34m)\u001b[0m\u001b[0;34m,\u001b[0m \u001b[0mchosen_arms\u001b[0m\u001b[0;34m]\u001b[0m\u001b[0;34m\u001b[0m\u001b[0m\n\u001b[0m\u001b[1;32m     28\u001b[0m \u001b[0mbandit_model\u001b[0m\u001b[0;34m.\u001b[0m\u001b[0mfit\u001b[0m\u001b[0;34m(\u001b[0m\u001b[0mf_vector\u001b[0m\u001b[0;34m[\u001b[0m\u001b[0;34m:\u001b[0m\u001b[0mend\u001b[0m\u001b[0;34m]\u001b[0m\u001b[0;34m,\u001b[0m \u001b[0mchosen_arms\u001b[0m\u001b[0;34m,\u001b[0m \u001b[0mpred_arm_rewords\u001b[0m\u001b[0;34m)\u001b[0m\u001b[0;34m\u001b[0m\u001b[0m\n\u001b[1;32m     29\u001b[0m \u001b[0;34m\u001b[0m\u001b[0m\n",
      "\u001b[0;31mIndexError\u001b[0m: shape mismatch: indexing arrays could not be broadcast together with shapes (10000,) (100,) "
     ]
    }
   ],
   "source": [
    "# %%debug\n",
    "%load_ext autoreload\n",
    "%autoreload\n",
    "\n",
    "from contexual_bandit import ContextualBandit\n",
    "\n",
    "np.random.seed(seed)\n",
    "\n",
    "f_vector, rewords, weight = generate_sample_data(sample_num=10000)\n",
    "\n",
    "n_arm = rewords.shape[1]\n",
    "base_model = LogisticRegression(solver='lbfgs', random_state=seed)\n",
    "bandit_model = ContextualBandit(base_model, n_arm, n_estimator=10)\n",
    "\n",
    "batch_size = 100\n",
    "lr_step = 500\n",
    "\n",
    "random_rewords = []\n",
    "predict_rewords = []\n",
    "\n",
    "pred_arm_history = np.array([]).astype(int)\n",
    "rand_arm_history = np.array([]).astype(int)\n",
    "\n",
    "\n",
    "# 初期処理\n",
    "chosen_arms = np.random.randint(n_arm, size=batch_size)\n",
    "pred_arm_rewords = rewords[np.arange(end), chosen_arms]\n",
    "bandit_model.fit(f_vector[:end], chosen_arms, pred_arm_rewords)\n",
    "\n",
    "for i in tqdm(range(0, f_vector.shape[0], batch_size)):\n",
    "    start = i\n",
    "    end = i + batch_size\n",
    "    # バッチデータの切り取り\n",
    "    X_batch = f_vector[start:end, :]\n",
    "    y_batch = rewords[start:end, :]\n",
    "    \n",
    "    \n",
    "    # ランダム選択の挙動\n",
    "    ## アームの選択\n",
    "    random_chosen_arms = np.random.randint(n_arm, size=batch_size)\n",
    "    ## 過去すべてのアーム選択リストに追加\n",
    "    rand_arm_history = np.append(rand_arm_history, random_chosen_arms)\n",
    "    ## 報酬の計算\n",
    "    random_rewords.append( rewords[:end][np.arange(end), rand_arm_history].mean() )\n",
    "    \n",
    "    # ----------------------------------------------------------------------------------------------------------------\n",
    "    \n",
    "    # バンディットの挙動\n",
    "    ## アームを選ぶ（予測をする）\n",
    "    ## 過去すべてのアーム選択リストに追加\n",
    "    ## 報酬の計算\n",
    "    ## 過去すべてのアーム選択リストを元に得られた報酬を取得し、モデルを再学習\n",
    "    ### 再学習はバッチごとに行う。partial_fitも存在する\n",
    "    \n",
    "    ## アームを選ぶ（予測をする）\n",
    "    chosen_arms = bandit_model.predict(X_batch)\n",
    "    ## 過去すべてのアーム選択リストに追加\n",
    "    pred_arm_history = np.append(pred_arm_history, chosen_arms)\n",
    "    ## 報酬の計算\n",
    "    pred_arm_rewords = rewords[np.arange(end), chosen_arms]\n",
    "    ## 過去すべてのアーム選択リストを元に得られた報酬を取得し、モデルを再学習\n",
    "    if i % lr_step == batch_size:\n",
    "        pred_arm_rewords = rewords[np.arange(end), pred_arm_history]\n",
    "        bandit_model.fit(f_vector[:end], pred_arm_history, pred_arm_rewords)\n",
    "    else:\n",
    "        # partial_fit を追記する。\n",
    "        pass\n",
    "    \n",
    "    # 報酬の計算\n",
    "    predict_rewords.append(rewords[:end][np.arange(end), pred_arm_history].mean())\n",
    "    "
   ]
  },
  {
   "cell_type": "code",
   "execution_count": 117,
   "metadata": {},
   "outputs": [
    {
     "name": "stdout",
     "output_type": "stream",
     "text": [
      "[]\n",
      "[]\n"
     ]
    },
    {
     "data": {
      "text/plain": [
       "<matplotlib.legend.Legend at 0x1221a41d0>"
      ]
     },
     "execution_count": 117,
     "metadata": {},
     "output_type": "execute_result"
    },
    {
     "data": {
      "image/png": "[encoded data removed]",
      "text/plain": [
       "<Figure size 576x360 with 1 Axes>"
      ]
     },
     "metadata": {},
     "output_type": "display_data"
    }
   ],
   "source": [
    "print (predict_rewords[:5])\n",
    "print (random_rewords[:5])\n",
    "\n",
    "plt.figure(figsize=(8, 5))\n",
    "plt.plot(predict_rewords, color='r', label='Average Predict Rewords')\n",
    "plt.plot(random_rewords, color='g', label='Average Random Rewords')\n",
    "plt.legend()"
   ]
  },
  {
   "cell_type": "code",
   "execution_count": 97,
   "metadata": {},
   "outputs": [
    {
     "name": "stdout",
     "output_type": "stream",
     "text": [
      "[0.02, 0.03, 0.03, 0.0275, 0.026]\n",
      "[0.03, 0.03, 0.03333333333333333, 0.0325, 0.026]\n"
     ]
    },
    {
     "data": {
      "text/plain": [
       "<matplotlib.legend.Legend at 0x121bef748>"
      ]
     },
     "execution_count": 97,
     "metadata": {},
     "output_type": "execute_result"
    },
    {
     "data": {
      "image/png": "[encoded data removed]",
      "text/plain": [
       "<Figure size 576x360 with 1 Axes>"
      ]
     },
     "metadata": {},
     "output_type": "display_data"
    }
   ],
   "source": [
    "print (predict_rewords[:5])\n",
    "print (random_rewords[:5])\n",
    "\n",
    "plt.figure(figsize=(8, 5))\n",
    "plt.plot(predict_rewords, color='r', label='Average Predict Rewords')\n",
    "plt.plot(random_rewords, color='g', label='Average Random Rewords')\n",
    "plt.legend()"
   ]
  },
  {
   "cell_type": "code",
   "execution_count": null,
   "metadata": {},
   "outputs": [],
   "source": []
  }
 ],
 "metadata": {
  "kernelspec": {
   "display_name": "Python 3",
   "language": "python",
   "name": "python3"
  },
  "language_info": {
   "codemirror_mode": {
    "name": "ipython",
    "version": 3
   },
   "file_extension": ".py",
   "mimetype": "text/x-python",
   "name": "python",
   "nbconvert_exporter": "python",
   "pygments_lexer": "ipython3",
   "version": "3.7.0"
  }
 },
 "nbformat": 4,
 "nbformat_minor": 2
}
