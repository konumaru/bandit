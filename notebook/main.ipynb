{
 "cells": [
  {
   "cell_type": "markdown",
   "metadata": {},
   "source": [
    "# Contextual Multi-Arm Bandit\n",
    "---"
   ]
  },
  {
   "cell_type": "markdown",
   "metadata": {},
   "source": [
    "## Load Liblareis"
   ]
  },
  {
   "cell_type": "code",
   "execution_count": 1,
   "metadata": {},
   "outputs": [],
   "source": [
    "import numpy as np\n",
    "import pandas as pd\n",
    "from tqdm import tqdm_notebook as tqdm\n",
    "\n",
    "import matplotlib.pyplot as plt\n",
    "%matplotlib inline\n",
    "\n",
    "from sklearn.linear_model import LogisticRegression"
   ]
  },
  {
   "cell_type": "markdown",
   "metadata": {},
   "source": [
    "## Generate Sample Data"
   ]
  },
  {
   "cell_type": "code",
   "execution_count": 2,
   "metadata": {},
   "outputs": [],
   "source": [
    "def generate_sample_data(sample_num=10000):\n",
    "    weight = np.array([\n",
    "        [0.05, 0.05, -0.05],\n",
    "        [-0.05, 0.05, 0.05],\n",
    "        [0.05, -0.05, 0.05],\n",
    "    ])\n",
    "\n",
    "    arm_num = weight.shape[0]\n",
    "    feature_wight = weight\n",
    "\n",
    "    feature_vector = np.random.rand(sample_num, feature_wight.shape[0])\n",
    "    theta = np.dot(feature_vector, feature_wight)\n",
    "    is_cv = (theta > np.random.rand(sample_num, arm_num)).astype(np.int8)\n",
    "\n",
    "    return feature_vector, is_cv, weight"
   ]
  },
  {
   "cell_type": "markdown",
   "metadata": {},
   "source": [
    "## Define Model"
   ]
  },
  {
   "cell_type": "code",
   "execution_count": 3,
   "metadata": {},
   "outputs": [],
   "source": [
    "import numpy as np\n",
    "from joblib import Parallel, delayed\n",
    "\n",
    "from sklearn.linear_model import LogisticRegression\n",
    "\n",
    "\n",
    "class ZeroPredictor():\n",
    "\n",
    "    def predict_proba(self, X):\n",
    "        return np.c_[np.ones((X.shape[0], 1)),  np.zeros((X.shape[0], 1))]\n",
    "\n",
    "\n",
    "class OnePredictor():\n",
    "\n",
    "    def predict_proba(self, X):\n",
    "        return np.c_[np.zeros((X.shape[0], 1)), np.ones((X.shape[0], 1))]\n",
    "\n",
    "\n",
    "class ContextualBandit():\n",
    "\n",
    "    def __init__(self, base_model, n_arm,  n_estimator=100):\n",
    "        self.n_arm = n_arm\n",
    "        self.base_model = base_model\n",
    "        self.n_estimator = n_estimator\n",
    "        self.estimators = np.array([[base_model for _ in range(n_estimator)] for _ in range(n_arm)])\n",
    "        self.smpl_count_each_arm = np.zeros(n_arm, dtype=np.int64)\n",
    "\n",
    "    def fit(self, X, chosen_arm, y):\n",
    "        for arm_id in range(self.n_arm):\n",
    "            matched_X = X[(chosen_arm == arm_id)]\n",
    "            matched_y = y[(chosen_arm == arm_id)]\n",
    "            \n",
    "            self.estimators[arm_id] = Parallel(n_jobs=-1)(\n",
    "                [delayed(self._bagging)(self.base_model, matched_X, matched_y) for estimator in range(self.n_estimator)]\n",
    "            )\n",
    "            \n",
    "            self.smpl_count_each_arm[arm_id] +=  matched_X.shape[0]\n",
    "\n",
    "    def _bagging(self, model, X, y):\n",
    "        _X, _y = self._bootstrapped_sampling(X, y)\n",
    "        if _y.sum() == 0:\n",
    "            return ZeroPredictor()\n",
    "        elif _y.sum() == _y.shape[0]:\n",
    "            return OnePredictor()\n",
    "        else:\n",
    "            return model.fit(_X, _y)\n",
    "\n",
    "    def _bootstrapped_sampling(self, X, y, sample_rate=0.8):\n",
    "        data_size = X.shape[0]\n",
    "        bootstrapped_idx = np.random.randint(0, data_size, int(data_size*sample_rate))\n",
    "        return X[bootstrapped_idx], y[bootstrapped_idx]\n",
    "\n",
    "    def _thompson_sampling(self, smpl):\n",
    "        smpl_avg, smpl_std = smpl.mean(), smpl.std()\n",
    "        return np.random.normal(smpl_avg, smpl_std)\n",
    "    \n",
    "    def _predict_proba_with_thompson_sampling(self, arm_id, X):\n",
    "        \n",
    "        def _single_predict_proba(model, X):\n",
    "            return model.predict_proba(X)[:, 1]\n",
    "            \n",
    "        proba_result = Parallel(n_jobs=-1)([delayed(_single_predict_proba)(estimator, X) for estimator in  self.estimators[arm_id]])\n",
    "        \n",
    "        proba_mean = np.mean(proba_result, axis=0)\n",
    "        proba_std = np.std(proba_result, axis=0)\n",
    "        \n",
    "        return [np.random.normal(p, s) for p, s in zip(proba_mean, proba_std)]\n",
    "\n",
    "    def predict(self, X):\n",
    "        proba_each_users = np.zeros((self.n_arm, X.shape[0]))\n",
    "\n",
    "        def predict_proba(estimators, X, arm_id):\n",
    "            proba = np.array([e.predict_proba(X)[:, 1] for e in estimators]).T\n",
    "            proba = [self._thompson_sampling(p) for p in proba]\n",
    "            return np.array(proba)\n",
    "        \n",
    "        for arm_id in range(self.n_arm):\n",
    "            proba_each_users[arm_id, :] = self._predict_proba_with_thompson_sampling(arm_id, X)\n",
    "        \n",
    "        return np.argmax(proba_each_users, axis=0)\n"
   ]
  },
  {
   "cell_type": "markdown",
   "metadata": {},
   "source": [
    "## Train Model"
   ]
  },
  {
   "cell_type": "code",
   "execution_count": 37,
   "metadata": {
    "scrolled": false
   },
   "outputs": [
    {
     "data": {
      "application/vnd.jupyter.widget-view+json": {
       "model_id": "3a44ea94e9924a3bbd5f5b1719f28338",
       "version_major": 2,
       "version_minor": 0
      },
      "text/plain": [
       "HBox(children=(IntProgress(value=0, max=1000), HTML(value='')))"
      ]
     },
     "metadata": {},
     "output_type": "display_data"
    },
    {
     "name": "stdout",
     "output_type": "stream",
     "text": [
      "\n"
     ]
    }
   ],
   "source": [
    "# %%debug\n",
    "\n",
    "f_vector, rewords, weight = generate_sample_data(sample_num=100000)\n",
    "\n",
    "n_arm = rewords.shape[1]\n",
    "base_model = LogisticRegression(solver='lbfgs')\n",
    "bandit_model = ContextualBandit(base_model, n_arm, n_estimator=10)\n",
    "\n",
    "batch_size = 100\n",
    "lr_step = 500\n",
    "\n",
    "random_rewords = []\n",
    "predict_rewords = []\n",
    "\n",
    "pred_arm_history = np.array([]).astype(int)\n",
    "rand_arm_history = np.array([]).astype(int)\n",
    "\n",
    "for i in tqdm(range(0, f_vector.shape[0], batch_size)):\n",
    "    start = i\n",
    "    end = i + batch_size\n",
    "    # バッチデータの切り取り\n",
    "    X_batch = f_vector[start:end, :]\n",
    "    y_batch = rewords[start:end, :]\n",
    "    \n",
    "    # アームの選択\n",
    "    random_chosen_arms = np.random.randint(n_arm, size=batch_size)\n",
    "    if i == 0:\n",
    "        # 初期処理\n",
    "        chosen_arms = np.random.randint(n_arm, size=batch_size)\n",
    "        pred_arm_rewords = rewords[np.arange(end), chosen_arms]\n",
    "        bandit_model.fit(f_vector[:end], chosen_arms, pred_arm_rewords)\n",
    "    else:\n",
    "        chosen_arms = bandit_model.predict(X_batch)\n",
    "    \n",
    "    rand_arm_history = np.append(rand_arm_history, random_chosen_arms)\n",
    "    pred_arm_history = np.append(pred_arm_history, chosen_arms)\n",
    "    # モデルの更新\n",
    "    if i % lr_step == batch_size:\n",
    "        pred_arm_rewords = rewords[np.arange(end), pred_arm_history]\n",
    "        bandit_model.fit(f_vector[:end], pred_arm_history, pred_arm_rewords)\n",
    "        \n",
    "    # 報酬を集計\n",
    "    random_rewords.append(rewords[:end][np.arange(end), rand_arm_history].mean())\n",
    "    predict_rewords.append(rewords[:end][np.arange(end), pred_arm_history].mean())\n",
    "    "
   ]
  },
  {
   "cell_type": "code",
   "execution_count": 38,
   "metadata": {},
   "outputs": [
    {
     "data": {
      "text/plain": [
       "<matplotlib.legend.Legend at 0x1190fb8d0>"
      ]
     },
     "execution_count": 38,
     "metadata": {},
     "output_type": "execute_result"
    },
    {
     "data": {
      "image/png": "[encoded data removed]",
      "text/plain": [
       "<Figure size 576x360 with 1 Axes>"
      ]
     },
     "metadata": {},
     "output_type": "display_data"
    }
   ],
   "source": [
    "plt.figure(figsize=(8, 5))\n",
    "plt.plot(predict_rewords, color='r', label='Average Predict Rewords')\n",
    "plt.plot(random_rewords, color='g', label='Average Random Rewords')\n",
    "plt.legend()"
   ]
  },
  {
   "cell_type": "code",
   "execution_count": null,
   "metadata": {},
   "outputs": [],
   "source": []
  }
 ],
 "metadata": {
  "kernelspec": {
   "display_name": "Python 3",
   "language": "python",
   "name": "python3"
  },
  "language_info": {
   "codemirror_mode": {
    "name": "ipython",
    "version": 3
   },
   "file_extension": ".py",
   "mimetype": "text/x-python",
   "name": "python",
   "nbconvert_exporter": "python",
   "pygments_lexer": "ipython3",
   "version": "3.7.0"
  }
 },
 "nbformat": 4,
 "nbformat_minor": 2
}
