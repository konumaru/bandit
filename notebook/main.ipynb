{
 "cells": [
  {
   "cell_type": "markdown",
   "metadata": {},
   "source": [
    "# Contextual Multi-Arm Bandit\n",
    "---"
   ]
  },
  {
   "cell_type": "markdown",
   "metadata": {},
   "source": [
    "## Load Liblareis"
   ]
  },
  {
   "cell_type": "code",
   "execution_count": 1,
   "metadata": {},
   "outputs": [],
   "source": [
    "import numpy as np\n",
    "import pandas as pd\n",
    "from tqdm import tqdm_notebook as tqdm\n",
    "\n",
    "import matplotlib.pyplot as plt\n",
    "%matplotlib inline\n",
    "\n",
    "from sklearn.linear_model import LogisticRegression"
   ]
  },
  {
   "cell_type": "markdown",
   "metadata": {},
   "source": [
    "## Generate Sample Data"
   ]
  },
  {
   "cell_type": "code",
   "execution_count": 2,
   "metadata": {},
   "outputs": [],
   "source": [
    "def generate_sample_data(sample_num=10000):\n",
    "    weight = np.array([\n",
    "        [0.05, 0.05, -0.05],\n",
    "        [-0.05, 0.05, 0.05],\n",
    "        [0.05, -0.05, 0.05],\n",
    "    ])\n",
    "\n",
    "    arm_num = weight.shape[0]\n",
    "    feature_wight = weight\n",
    "\n",
    "    feature_vector = np.random.rand(sample_num, feature_wight.shape[0])\n",
    "    theta = np.dot(feature_vector, feature_wight)\n",
    "    is_cv = (theta > np.random.rand(sample_num, arm_num)).astype(np.int8)\n",
    "\n",
    "    return feature_vector, is_cv, weight"
   ]
  },
  {
   "cell_type": "markdown",
   "metadata": {},
   "source": [
    "## Train Model"
   ]
  },
  {
   "cell_type": "code",
   "execution_count": 211,
   "metadata": {
    "scrolled": false
   },
   "outputs": [
    {
     "name": "stdout",
     "output_type": "stream",
     "text": [
      "The autoreload extension is already loaded. To reload it, use:\n",
      "  %reload_ext autoreload\n"
     ]
    },
    {
     "data": {
      "application/vnd.jupyter.widget-view+json": {
       "model_id": "420b9da9ea274c348eaf8494f696839a",
       "version_major": 2,
       "version_minor": 0
      },
      "text/plain": [
       "HBox(children=(IntProgress(value=0), HTML(value='')))"
      ]
     },
     "metadata": {},
     "output_type": "display_data"
    },
    {
     "name": "stdout",
     "output_type": "stream",
     "text": [
      "\n"
     ]
    }
   ],
   "source": [
    "# %%debug\n",
    "%load_ext autoreload\n",
    "%autoreload\n",
    "from contexual_bandit import ContextualBandit\n",
    "\n",
    "# seed = 42\n",
    "# np.random.seed(seed)\n",
    "\n",
    "f_vector, rewords, weight = generate_sample_data(sample_num=10000)\n",
    "\n",
    "n_arm = rewords.shape[1]\n",
    "base_model = LogisticRegression(solver='lbfgs', random_state=seed)\n",
    "bandit_model = ContextualBandit(base_model, n_arm, n_estimator=10)\n",
    "\n",
    "batch_size = 100\n",
    "lr_step = 500\n",
    "\n",
    "random_rewords = []\n",
    "predict_rewords = []\n",
    "\n",
    "pred_arm_history = np.array([]).astype(int)\n",
    "rand_arm_history = np.array([]).astype(int)\n",
    "\n",
    "for i in tqdm(range(0, f_vector.shape[0], batch_size)):\n",
    "    start = i\n",
    "    end = start + batch_size\n",
    "    # バッチデータの切り取り\n",
    "    X_batch = f_vector[start:end]\n",
    "    y_batch = rewords[start:end]\n",
    "    \n",
    "    \n",
    "    # ランダム選択の挙動\n",
    "    ## アームの選択\n",
    "    ## 過去すべてのアーム選択リストに追加\n",
    "    ## 報酬の計算\n",
    "    random_chosen_arms = np.random.randint(n_arm, size=batch_size)\n",
    "    rand_arm_history = np.append(rand_arm_history, random_chosen_arms)\n",
    "    random_rewords.append( rewords[:end][np.arange(rand_arm_history.shape[0]), rand_arm_history].mean() )\n",
    "    \n",
    "    # ----------------------------------------------------------------------------------------------------------------\n",
    "    \n",
    "    # バンディットの挙動\n",
    "    ## 初期処理\n",
    "    ## アームを選ぶ（予測をする）\n",
    "    ## 過去すべてのアーム選択リストに追加\n",
    "    ## 報酬の計算\n",
    "    ## 過去すべてのアーム選択リストを元に得られた報酬を取得し、モデルを再学習\n",
    "    ### 再学習はバッチごとに行う。partial_fitも存在する\n",
    "    \n",
    "    if i == 0:\n",
    "        # 初期処理\n",
    "        chosen_arms = np.random.randint(n_arm, size=batch_size)\n",
    "        pred_arm_history = np.append(pred_arm_history, chosen_arms)\n",
    "        pred_arm_rewords = rewords[np.arange(chosen_arms.shape[0]), chosen_arms]\n",
    "        bandit_model.fit(f_vector[:end], pred_arm_history, pred_arm_rewords)\n",
    "    else:\n",
    "        chosen_arms = bandit_model.predict(X_batch)\n",
    "        pred_arm_history = np.append(pred_arm_history, chosen_arms)\n",
    "        pred_arm_rewords = rewords[np.arange(pred_arm_history.shape[0]), pred_arm_history]\n",
    "        \n",
    "        if i % lr_step == batch_size:\n",
    "            bandit_model.fit(f_vector[:end], pred_arm_history, pred_arm_rewords)\n",
    "        else:\n",
    "            # partial_fit を追記する。\n",
    "            pass\n",
    "    \n",
    "    predict_rewords.append(rewords[:end][np.arange(pred_arm_history.shape[0]), pred_arm_history].mean())\n",
    "    "
   ]
  },
  {
   "cell_type": "code",
   "execution_count": 219,
   "metadata": {},
   "outputs": [
    {
     "name": "stdout",
     "output_type": "stream",
     "text": [
      "[0.01783293 0.03677253 0.0087766  0.01721193 0.03802754]\n",
      "0_estimator auc is 0.7004577397881389\n",
      "\n",
      "[0.01783293 0.03677253 0.0087766  0.01721193 0.03802754]\n",
      "1_estimator auc is 0.7004577397881389\n",
      "\n",
      "[0.01783293 0.03677253 0.0087766  0.01721193 0.03802754]\n",
      "2_estimator auc is 0.7004577397881389\n",
      "\n",
      "[0.01783293 0.03677253 0.0087766  0.01721193 0.03802754]\n",
      "3_estimator auc is 0.7004577397881389\n",
      "\n",
      "[0.01783293 0.03677253 0.0087766  0.01721193 0.03802754]\n",
      "4_estimator auc is 0.7004577397881389\n",
      "\n",
      "[0.01783293 0.03677253 0.0087766  0.01721193 0.03802754]\n",
      "5_estimator auc is 0.7004577397881389\n",
      "\n",
      "[0.01783293 0.03677253 0.0087766  0.01721193 0.03802754]\n",
      "6_estimator auc is 0.7004577397881389\n",
      "\n",
      "[0.01783293 0.03677253 0.0087766  0.01721193 0.03802754]\n",
      "7_estimator auc is 0.7004577397881389\n",
      "\n",
      "[0.01783293 0.03677253 0.0087766  0.01721193 0.03802754]\n",
      "8_estimator auc is 0.7004577397881389\n",
      "\n",
      "[0.01783293 0.03677253 0.0087766  0.01721193 0.03802754]\n",
      "9_estimator auc is 0.7004577397881389\n",
      "\n"
     ]
    }
   ],
   "source": [
    "from sklearn import metrics\n",
    "\n",
    "armID = 2\n",
    "model_armId = armID\n",
    "label_armId = armID\n",
    "\n",
    "for i in range(10):\n",
    "    proba = bandit_model.estimators[model_armId, i].predict_proba(f_vector)[:, 1]\n",
    "    print (proba[:5])\n",
    "    fpr, tpr, thresholds = metrics.roc_curve(rewords[:, label_armId], proba)\n",
    "    print ('{0}_estimator auc is {1}\\n'.format(i, metrics.auc(fpr, tpr)))"
   ]
  },
  {
   "cell_type": "code",
   "execution_count": 217,
   "metadata": {},
   "outputs": [
    {
     "name": "stdout",
     "output_type": "stream",
     "text": [
      "[0.0, 0.025, 0.03, 0.0275, 0.028]\n",
      "[0.03, 0.03, 0.02666666666666667, 0.0225, 0.028]\n"
     ]
    },
    {
     "data": {
      "text/plain": [
       "<matplotlib.legend.Legend at 0x11c576710>"
      ]
     },
     "execution_count": 217,
     "metadata": {},
     "output_type": "execute_result"
    },
    {
     "data": {
      "image/png": "[encoded data removed]",
      "text/plain": [
       "<Figure size 576x360 with 1 Axes>"
      ]
     },
     "metadata": {},
     "output_type": "display_data"
    }
   ],
   "source": [
    "print (predict_rewords[:5])\n",
    "print (random_rewords[:5])\n",
    "\n",
    "plt.figure(figsize=(8, 5))\n",
    "plt.plot(predict_rewords, color='r', label='Average Predict Rewords')\n",
    "plt.plot(random_rewords, color='g', label='Average Random Rewords')\n",
    "plt.legend()"
   ]
  },
  {
   "cell_type": "code",
   "execution_count": null,
   "metadata": {},
   "outputs": [],
   "source": []
  },
  {
   "cell_type": "code",
   "execution_count": null,
   "metadata": {},
   "outputs": [],
   "source": []
  }
 ],
 "metadata": {
  "kernelspec": {
   "display_name": "Python 3",
   "language": "python",
   "name": "python3"
  },
  "language_info": {
   "codemirror_mode": {
    "name": "ipython",
    "version": 3
   },
   "file_extension": ".py",
   "mimetype": "text/x-python",
   "name": "python",
   "nbconvert_exporter": "python",
   "pygments_lexer": "ipython3",
   "version": "3.7.0"
  }
 },
 "nbformat": 4,
 "nbformat_minor": 2
}
