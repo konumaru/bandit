{
 "cells": [
  {
   "cell_type": "markdown",
   "metadata": {},
   "source": [
    "# Contextual Multi-Arm Bandit\n",
    "---"
   ]
  },
  {
   "cell_type": "markdown",
   "metadata": {},
   "source": [
    "## Load Liblareis"
   ]
  },
  {
   "cell_type": "code",
   "execution_count": 35,
   "metadata": {},
   "outputs": [],
   "source": [
    "import numpy as np\n",
    "import pandas as pd\n",
    "from tqdm import tqdm_notebook as tqdm\n",
    "\n",
    "import matplotlib.pyplot as plt\n",
    "%matplotlib inline\n",
    "\n",
    "from sklearn.linear_model import LogisticRegression"
   ]
  },
  {
   "cell_type": "markdown",
   "metadata": {},
   "source": [
    "## Generate Sample Data"
   ]
  },
  {
   "cell_type": "code",
   "execution_count": 36,
   "metadata": {},
   "outputs": [],
   "source": [
    "def generate_sample_data(sample_num=10000):\n",
    "    weight = np.array([\n",
    "        [0.05, 0.05, -0.05],\n",
    "        [-0.05, 0.05, 0.05],\n",
    "        [0.05, -0.05, 0.05],\n",
    "    ])\n",
    "\n",
    "    arm_num = weight.shape[0]\n",
    "\n",
    "    feature_vector = np.random.rand(sample_num, arm_num)\n",
    "    theta = np.dot(feature_vector, weight)\n",
    "    is_cv = (theta > np.random.rand(sample_num, arm_num)).astype(np.int8)\n",
    "\n",
    "    return feature_vector, is_cv, weight"
   ]
  },
  {
   "cell_type": "code",
   "execution_count": 37,
   "metadata": {},
   "outputs": [],
   "source": [
    "import numpy  as np\n",
    "from joblib import Parallel, delayed\n",
    "\n",
    "class ContextualBandit():\n",
    "    \n",
    "    def __init__(self, base_model, n_arm,  n_estimator=100):\n",
    "        self.n_arm = n_arm\n",
    "        self.base_model = base_model\n",
    "        self.n_estimator = n_estimator\n",
    "        self.estimators = np.array([base_model for i in range(n_estimator*n_arm)]).reshape(n_estimator, n_arm)\n",
    "        \n",
    "        \n",
    "    def fit(self, X, y):\n",
    "        for arm_id in range(self.n_arm):\n",
    "            self.estimators[:, arm_id] = Parallel(n_jobs=-1)(\n",
    "                [delayed(estimator.fit)(X, y[:, arm_id]) for estimator in self.estimators[:, arm_id]] \n",
    "            )\n",
    "    \n",
    "    \n",
    "    def _thompson_sampling(self, smpl):\n",
    "        smpl_avg, smpl_std = smpl.mean(), smpl.std()        \n",
    "        return np.random.normal(smpl_avg, smpl_std)\n",
    "    \n",
    "    \n",
    "    def predict(self, X):\n",
    "        proba_by_arms = np.zeros( (X.shape[0], self.n_arm) )\n",
    "        \n",
    "        # 雑だから書き直す\n",
    "        def predict_proba(estimators, X):\n",
    "            proba = np.array([e.predict_proba(X)[:, 1] for e in estimators]).T\n",
    "            proba = [self._thompson_sampling(p) for p in proba]\n",
    "            return np.array(proba)\n",
    "        \n",
    "        for arm_id in range(self.n_arm):\n",
    "            proba_by_arms[:, arm_id] =  predict_proba(self.estimators[:, arm_id], X)\n",
    "        \n",
    "        return proba_by_arms.argmax(axis=1)\n"
   ]
  },
  {
   "cell_type": "code",
   "execution_count": null,
   "metadata": {},
   "outputs": [
    {
     "data": {
      "application/vnd.jupyter.widget-view+json": {
       "model_id": "6034df62b61949e18cd3579f6a5ab9ec",
       "version_major": 2,
       "version_minor": 0
      },
      "text/plain": [
       "HBox(children=(IntProgress(value=0), HTML(value='')))"
      ]
     },
     "metadata": {},
     "output_type": "display_data"
    }
   ],
   "source": [
    "f_vector, rewords, weight = generate_sample_data()\n",
    "\n",
    "n_arm = rewords.shape[1]\n",
    "bandit_model = ContextualBandit(LogisticRegression(solver='lbfgs'), n_arm)\n",
    "\n",
    "n_batch = 100\n",
    "lr_step = 500\n",
    "\n",
    "batch_rewords = []\n",
    "predict_rewords = []\n",
    "total_actual_rewords = []\n",
    "\n",
    "for i in tqdm(range(n_batch, f_vector.shape[0]+n_batch, n_batch)):\n",
    "    X = f_vector[:i]\n",
    "    y = rewords[:i]\n",
    "    if i%lr_step == n_batch:\n",
    "        bandit_model.fit(X, y)\n",
    "    \n",
    "    pred_arm = bandit_model.predict(X)\n",
    "    predict_rewords.append(np.mean([r[idx]  for r, idx in zip(y, pred_arm)]))\n",
    "    \n",
    "    chosen_arm = np.random.randint(n_arm)\n",
    "    batch_rewords.append(y[:, chosen_arm].mean())\n",
    "    \n",
    "    total_actual_rewords.append(y.sum(axis=1).mean())\n"
   ]
  },
  {
   "cell_type": "code",
   "execution_count": null,
   "metadata": {},
   "outputs": [],
   "source": [
    "plt.plot(predict_rewords, color='r')\n",
    "plt.plot(batch_rewords, color='g')\n",
    "plt.plot(total_actual_rewords, color='b')"
   ]
  },
  {
   "cell_type": "code",
   "execution_count": null,
   "metadata": {},
   "outputs": [],
   "source": []
  }
 ],
 "metadata": {
  "kernelspec": {
   "display_name": "Python 3",
   "language": "python",
   "name": "python3"
  },
  "language_info": {
   "codemirror_mode": {
    "name": "ipython",
    "version": 3
   },
   "file_extension": ".py",
   "mimetype": "text/x-python",
   "name": "python",
   "nbconvert_exporter": "python",
   "pygments_lexer": "ipython3",
   "version": "3.7.0"
  }
 },
 "nbformat": 4,
 "nbformat_minor": 2
}
