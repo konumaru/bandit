{
 "cells": [
  {
   "cell_type": "markdown",
   "metadata": {},
   "source": [
    "# Contextual Multi-Arm Bandit\n",
    "---"
   ]
  },
  {
   "cell_type": "markdown",
   "metadata": {},
   "source": [
    "## Load Liblareis"
   ]
  },
  {
   "cell_type": "code",
   "execution_count": 254,
   "metadata": {},
   "outputs": [],
   "source": [
    "import numpy as np\n",
    "import pandas as pd\n",
    "from tqdm import tqdm_notebook as tqdm\n",
    "\n",
    "import matplotlib.pyplot as plt\n",
    "%matplotlib inline\n",
    "\n",
    "from sklearn.linear_model import LogisticRegression"
   ]
  },
  {
   "cell_type": "markdown",
   "metadata": {},
   "source": [
    "## Generate Sample Data"
   ]
  },
  {
   "cell_type": "code",
   "execution_count": 255,
   "metadata": {},
   "outputs": [],
   "source": [
    "def generate_sample_data(sample_num=10000):\n",
    "    weight = np.array([\n",
    "        [0.05, 0.05, -0.05],\n",
    "        [-0.05, 0.05, 0.05],\n",
    "        [0.05, -0.05, 0.05],\n",
    "    ])\n",
    "\n",
    "    arm_num = weight.shape[0]\n",
    "    feature_wight = weight\n",
    "\n",
    "    feature_vector = np.random.rand(sample_num, feature_wight.shape[0])\n",
    "    theta = np.dot(feature_vector, feature_wight)\n",
    "    is_cv = (theta > np.random.rand(sample_num, arm_num)).astype(np.int8)\n",
    "\n",
    "    return feature_vector, is_cv, weight"
   ]
  },
  {
   "cell_type": "markdown",
   "metadata": {},
   "source": [
    "## Parameter Tuning of Base Model"
   ]
  },
  {
   "cell_type": "code",
   "execution_count": 266,
   "metadata": {},
   "outputs": [],
   "source": [
    "f_vector, is_cv, weight = generate_sample_data()"
   ]
  },
  {
   "cell_type": "code",
   "execution_count": 311,
   "metadata": {},
   "outputs": [
    {
     "name": "stdout",
     "output_type": "stream",
     "text": [
      "C=0.1 is 0.7209481835611663\n",
      "C=1 is 0.7203739324220014\n",
      "C=10 is 0.7201591718333706\n",
      "C=100 is 0.7201078160404372\n",
      "C=1000 is 0.7201078160404373\n",
      "C=10000 is 0.7201078160404373\n"
     ]
    }
   ],
   "source": [
    "from sklearn.model_selection import train_test_split\n",
    "from sklearn.linear_model import LogisticRegression\n",
    "from sklearn import metrics\n",
    "\n",
    "X = f_vector\n",
    "y = is_cv[:, 0]\n",
    "\n",
    "X_train, X_test, y_train, y_test = train_test_split(X, y, test_size=0.5, random_state=42)\n",
    "\n",
    "\n",
    "for i in range(-1, 5):\n",
    "    model = LogisticRegression(penalty='l2', C=10**i, max_iter=100, solver='lbfgs')\n",
    "    model.fit(X_train, y_train)\n",
    "\n",
    "    pred = model.predict_proba(X_test)[:, 1]\n",
    "    fpr, tpr, thresholds = metrics.roc_curve(y_test, pred)\n",
    "    print ('C={0} is {1}'.format(10**i, metrics.auc(fpr, tpr)))"
   ]
  },
  {
   "cell_type": "markdown",
   "metadata": {},
   "source": [
    "## Train Model"
   ]
  },
  {
   "cell_type": "code",
   "execution_count": 261,
   "metadata": {
    "scrolled": false
   },
   "outputs": [
    {
     "name": "stdout",
     "output_type": "stream",
     "text": [
      "The autoreload extension is already loaded. To reload it, use:\n",
      "  %reload_ext autoreload\n"
     ]
    },
    {
     "data": {
      "application/vnd.jupyter.widget-view+json": {
       "model_id": "22cdacf01c594aa18d50fb94b41a6027",
       "version_major": 2,
       "version_minor": 0
      },
      "text/plain": [
       "HBox(children=(IntProgress(value=0), HTML(value='')))"
      ]
     },
     "metadata": {},
     "output_type": "display_data"
    }
   ],
   "source": [
    "# %%debug\n",
    "%load_ext autoreload\n",
    "%autoreload\n",
    "from contexual_bandit import ContextualBandit\n",
    "\n",
    "seed = 42\n",
    "np.random.seed(seed)\n",
    "\n",
    "f_vector, rewords, weight = generate_sample_data(sample_num=100000)\n",
    "\n",
    "n_arm = rewords.shape[1]\n",
    "bandit_model = ContextualBandit(n_arm, n_estimator=10)\n",
    "\n",
    "batch_size = 1000\n",
    "lr_step = 5000\n",
    "\n",
    "random_rewords = []\n",
    "predict_rewords = []\n",
    "\n",
    "pred_arm_history = np.array([]).astype(int)\n",
    "rand_arm_history = np.array([]).astype(int)\n",
    "\n",
    "for i in tqdm(range(0, f_vector.shape[0], batch_size)):\n",
    "    start = i\n",
    "    end = start + batch_size\n",
    "    # バッチデータの切り取り\n",
    "    X_batch = f_vector[start:end]\n",
    "    y_batch = rewords[start:end]\n",
    "    \n",
    "    \n",
    "    # ランダム選択の挙動\n",
    "    ## アームの選択\n",
    "    ## 過去すべてのアーム選択リストに追加\n",
    "    ## 報酬の計算\n",
    "    random_chosen_arms = np.random.randint(n_arm, size=batch_size)\n",
    "    rand_arm_history = np.append(rand_arm_history, random_chosen_arms)\n",
    "    random_rewords.append( rewords[:end][np.arange(rand_arm_history.shape[0]), rand_arm_history].mean() )\n",
    "    \n",
    "    # ----------------------------------------------------------------------------------------------------------------\n",
    "    \n",
    "    # バンディットの挙動\n",
    "    ## 初期処理\n",
    "    ## アームを選ぶ（予測をする）\n",
    "    ## 過去すべてのアーム選択リストに追加\n",
    "    ## 報酬の計算\n",
    "    ## 過去すべてのアーム選択リストを元に得られた報酬を取得し、モデルを再学習\n",
    "    ### 再学習はバッチごとに行う。partial_fitも存在する\n",
    "    \n",
    "    if i == 0:\n",
    "        # 初期処理\n",
    "        chosen_arms = np.random.randint(n_arm, size=batch_size)\n",
    "        pred_arm_history = np.append(pred_arm_history, chosen_arms)\n",
    "        pred_arm_rewords = rewords[np.arange(chosen_arms.shape[0]), chosen_arms]\n",
    "        bandit_model.fit(f_vector[:end], pred_arm_history, pred_arm_rewords)\n",
    "    else:\n",
    "        chosen_arms = bandit_model.predict(X_batch)\n",
    "        pred_arm_history = np.append(pred_arm_history, chosen_arms)\n",
    "        pred_arm_rewords = rewords[np.arange(pred_arm_history.shape[0]), pred_arm_history]\n",
    "        \n",
    "        if i % lr_step == batch_size:\n",
    "            bandit_model.fit(f_vector[:end], pred_arm_history, pred_arm_rewords)\n",
    "        else:\n",
    "            # partial_fit を追記する。\n",
    "            pass\n",
    "    \n",
    "    predict_rewords.append(rewords[:end][np.arange(pred_arm_history.shape[0]), pred_arm_history].mean())\n",
    "    "
   ]
  },
  {
   "cell_type": "code",
   "execution_count": 263,
   "metadata": {},
   "outputs": [
    {
     "name": "stdout",
     "output_type": "stream",
     "text": [
      "[0.048346938775510204, 0.04822222222222222, 0.04824]\n",
      "[0.027785714285714285, 0.02778787878787879, 0.02775]\n"
     ]
    },
    {
     "data": {
      "text/plain": [
       "<matplotlib.legend.Legend at 0x11d55bb70>"
      ]
     },
     "execution_count": 263,
     "metadata": {},
     "output_type": "execute_result"
    },
    {
     "data": {
      "image/png": "[encoded data removed]",
      "text/plain": [
       "<Figure size 576x360 with 1 Axes>"
      ]
     },
     "metadata": {},
     "output_type": "display_data"
    }
   ],
   "source": [
    "plt.figure(figsize=(8, 5))\n",
    "plt.plot(predict_rewords, color='r', label='Average Predict Rewords')\n",
    "plt.plot(random_rewords, color='g', label='Average Random Rewords')\n",
    "plt.legend()"
   ]
  },
  {
   "cell_type": "code",
   "execution_count": null,
   "metadata": {},
   "outputs": [],
   "source": []
  },
  {
   "cell_type": "code",
   "execution_count": null,
   "metadata": {},
   "outputs": [],
   "source": []
  }
 ],
 "metadata": {
  "kernelspec": {
   "display_name": "Python 3",
   "language": "python",
   "name": "python3"
  },
  "language_info": {
   "codemirror_mode": {
    "name": "ipython",
    "version": 3
   },
   "file_extension": ".py",
   "mimetype": "text/x-python",
   "name": "python",
   "nbconvert_exporter": "python",
   "pygments_lexer": "ipython3",
   "version": "3.7.0"
  }
 },
 "nbformat": 4,
 "nbformat_minor": 2
}
